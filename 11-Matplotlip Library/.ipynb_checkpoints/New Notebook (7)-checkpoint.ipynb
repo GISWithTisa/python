{
 "cells": [
  {
   "cell_type": "code",
   "execution_count": 4,
   "metadata": {},
   "outputs": [
    {
     "ename": "ImportError",
     "evalue": "Pandas requires version '3.0.10' or newer of 'openpyxl' (version '3.0.9' currently installed).",
     "output_type": "error",
     "traceback": [
      "\u001b[0;31m---------------------------------------------------------------------------\u001b[0m\n\u001b[0;31mImportError\u001b[0m                               Traceback (most recent call last)",
      "In  \u001b[0;34m[4]\u001b[0m:\nLine \u001b[0;34m7\u001b[0m:     age_weight = pd.read_excel(\u001b[33m'\u001b[39;49;00m\u001b[33m.\u001b[39;49;00m\u001b[33m\\\u001b[39;49;00m\u001b[33mscatter_ex.xlsx\u001b[39;49;00m\u001b[33m'\u001b[39;49;00m, \u001b[33m'\u001b[39;49;00m\u001b[33mage_weight\u001b[39;49;00m\u001b[33m'\u001b[39;49;00m)\n",
      "File \u001b[0;34mE:\\ArcGIS Pro\\bin\\Python\\envs\\gisenv\\lib\\site-packages\\pandas\\io\\excel\\_base.py\u001b[0m, in \u001b[0;32mread_excel\u001b[0m:\nLine \u001b[0;34m504\u001b[0m:   io = ExcelFile(\n",
      "File \u001b[0;34mE:\\ArcGIS Pro\\bin\\Python\\envs\\gisenv\\lib\\site-packages\\pandas\\io\\excel\\_base.py\u001b[0m, in \u001b[0;32m__init__\u001b[0m:\nLine \u001b[0;34m1580\u001b[0m:  \u001b[36mself\u001b[39;49;00m._reader = \u001b[36mself\u001b[39;49;00m._engines[engine](\n",
      "File \u001b[0;34mE:\\ArcGIS Pro\\bin\\Python\\envs\\gisenv\\lib\\site-packages\\pandas\\io\\excel\\_openpyxl.py\u001b[0m, in \u001b[0;32m__init__\u001b[0m:\nLine \u001b[0;34m552\u001b[0m:   import_optional_dependency(\u001b[33m\"\u001b[39;49;00m\u001b[33mopenpyxl\u001b[39;49;00m\u001b[33m\"\u001b[39;49;00m)\n",
      "File \u001b[0;34mE:\\ArcGIS Pro\\bin\\Python\\envs\\gisenv\\lib\\site-packages\\pandas\\compat\\_optional.py\u001b[0m, in \u001b[0;32mimport_optional_dependency\u001b[0m:\nLine \u001b[0;34m161\u001b[0m:   \u001b[34mraise\u001b[39;49;00m \u001b[36mImportError\u001b[39;49;00m(msg)\n",
      "\u001b[0;31mImportError\u001b[0m: Pandas requires version '3.0.10' or newer of 'openpyxl' (version '3.0.9' currently installed).\n\u001b[0;31m---------------------------------------------------------------------------\u001b[0m"
     ]
    }
   ],
   "source": [
    "import numpy as np\n",
    "import pandas as pd\n",
    "import matplotlib.pyplot as plt\n",
    "%matplotlib inline\n",
    "\n",
    "plt.figure(figsize=(10,6))\n",
    "age_weight = pd.read_excel('.\\scatter_ex.xlsx', 'age_weight')\n",
    "X = age_weight['age']\n",
    "Y = age_weight['weight']\n",
    "plt.scatter(X,Y) \n",
    "plt.xlabel('Age')\n",
    "plt.ylabel('Weight')\n",
    "plt.show()"
   ]
  },
  {
   "cell_type": "code",
   "execution_count": null,
   "metadata": {},
   "outputs": [],
   "source": []
  }
 ],
 "metadata": {
  "kernelspec": {
   "display_name": "ArcGISPro",
   "language": "Python",
   "name": "python3"
  },
  "language_info": {
   "file_extension": ".py",
   "name": "python",
   "version": "3"
  }
 },
 "nbformat": 4,
 "nbformat_minor": 2
}
